{
  "cells": [
    {
      "cell_type": "markdown",
      "id": "4bece3fc",
      "metadata": {
        "id": "4bece3fc"
      },
      "source": [
        "# Exercício"
      ]
    },
    {
      "cell_type": "code",
      "source": [
        "# Importando a biblioteca numpy\n",
        "import numpy as np"
      ],
      "metadata": {
        "id": "O6UhFMKJDGUT"
      },
      "id": "O6UhFMKJDGUT",
      "execution_count": 49,
      "outputs": []
    },
    {
      "cell_type": "code",
      "source": [
        "#1. Crie um array NumPy unidimensional com os números de 1 a 10.\n",
        "array = np.arange(1,11)\n",
        "array"
      ],
      "metadata": {
        "colab": {
          "base_uri": "https://localhost:8080/"
        },
        "id": "O_C5ATEhCEDX",
        "outputId": "712fa410-0e09-4817-bf6c-c2654a34baf0"
      },
      "id": "O_C5ATEhCEDX",
      "execution_count": 2,
      "outputs": [
        {
          "output_type": "execute_result",
          "data": {
            "text/plain": [
              "array([1, 2, 3, 4, 5, 6, 7, 8, 9])"
            ]
          },
          "metadata": {},
          "execution_count": 2
        }
      ]
    },
    {
      "cell_type": "code",
      "source": [
        "#2. Crie um array NumPy bidimensional 3x3 preenchido com zeros.\n",
        "array = np.random.random((3,3))*0\n",
        "\n",
        "array2 = np.zeros((3,3))\n",
        "x = np.full((3,3),0)\n",
        "print(array2)\n",
        "print(array)\n",
        "print(x)\n"
      ],
      "metadata": {
        "colab": {
          "base_uri": "https://localhost:8080/"
        },
        "id": "8qx4dQdwCHS6",
        "outputId": "66774d60-20bb-4ea1-db46-f92ee8619e06"
      },
      "id": "8qx4dQdwCHS6",
      "execution_count": 25,
      "outputs": [
        {
          "output_type": "stream",
          "name": "stdout",
          "text": [
            "[[0. 0. 0.]\n",
            " [0. 0. 0.]\n",
            " [0. 0. 0.]]\n",
            "[[0. 0. 0.]\n",
            " [0. 0. 0.]\n",
            " [0. 0. 0.]]\n",
            "[[0 0 0]\n",
            " [0 0 0]\n",
            " [0 0 0]]\n"
          ]
        }
      ]
    },
    {
      "cell_type": "code",
      "source": [
        "#3. Crie um array NumPy bidimensional 4x4 preenchido com uns.\n",
        "array2 = np.zeros((4,4))+1\n",
        "\n",
        "x = np.array([1,1,1,1])\n",
        "x = np.tile(x,(4,1))\n",
        "y = np.full((4,4),1)\n",
        "print(array2)\n",
        "print(x)\n",
        "print(y)"
      ],
      "metadata": {
        "colab": {
          "base_uri": "https://localhost:8080/"
        },
        "id": "b1Dw4Ej8CJi1",
        "outputId": "b761d311-c110-4474-d96f-01f740a047e6"
      },
      "id": "b1Dw4Ej8CJi1",
      "execution_count": 26,
      "outputs": [
        {
          "output_type": "stream",
          "name": "stdout",
          "text": [
            "[[1. 1. 1. 1.]\n",
            " [1. 1. 1. 1.]\n",
            " [1. 1. 1. 1.]\n",
            " [1. 1. 1. 1.]]\n",
            "[[1 1 1 1]\n",
            " [1 1 1 1]\n",
            " [1 1 1 1]\n",
            " [1 1 1 1]]\n",
            "[[1 1 1 1]\n",
            " [1 1 1 1]\n",
            " [1 1 1 1]\n",
            " [1 1 1 1]]\n"
          ]
        }
      ]
    },
    {
      "cell_type": "code",
      "source": [
        "# Crie um array NumPy com 20 valores aleatórios entre 0 e 100.\n",
        "array = np.random.random((20))*100\n",
        "array2 = np.random.randint(0,100,20)\n",
        "print(array)\n",
        "print(array2)"
      ],
      "metadata": {
        "colab": {
          "base_uri": "https://localhost:8080/"
        },
        "id": "RXiWf6IxCMwR",
        "outputId": "0c045d39-eb71-469d-c523-5c2fef62c271"
      },
      "id": "RXiWf6IxCMwR",
      "execution_count": 72,
      "outputs": [
        {
          "output_type": "stream",
          "name": "stdout",
          "text": [
            "[53.87664821 37.19402783 40.09784843 41.1686449  50.82176728 84.53648923\n",
            " 10.08113817 53.26377964  6.22958189 72.95137581 79.79601665 82.80594653\n",
            " 59.98340052 49.678838   50.17075733 99.37274371 45.78382074 84.44726426\n",
            " 63.31063793 62.99361533]\n",
            "[ 8  5 94 31 95 50 72 79  7 87 57 43 37 93 72 85 13 46  1 29]\n"
          ]
        }
      ]
    },
    {
      "cell_type": "code",
      "source": [
        "# Crie um array NumPy unidimensional com espaçamento de 0.5 entre 0 e 10\n",
        "array = np.arange(0,10,0.5)\n",
        "array"
      ],
      "metadata": {
        "colab": {
          "base_uri": "https://localhost:8080/"
        },
        "id": "WkG5yY8pCQJ8",
        "outputId": "c7b689f5-53a3-425c-a94f-86ed05d1da77"
      },
      "id": "WkG5yY8pCQJ8",
      "execution_count": 29,
      "outputs": [
        {
          "output_type": "execute_result",
          "data": {
            "text/plain": [
              "array([0. , 0.5, 1. , 1.5, 2. , 2.5, 3. , 3.5, 4. , 4.5, 5. , 5.5, 6. ,\n",
              "       6.5, 7. , 7.5, 8. , 8.5, 9. , 9.5])"
            ]
          },
          "metadata": {},
          "execution_count": 29
        }
      ]
    },
    {
      "cell_type": "code",
      "source": [
        "# Crie um array NumPy bidimensional 5x5 com valores aleatórios inteiros entre 1 e 100.\n",
        "array = np.random.randint(1,101,(5,5))\n",
        "\n",
        "\n",
        "print(array)\n"
      ],
      "metadata": {
        "colab": {
          "base_uri": "https://localhost:8080/"
        },
        "id": "QcPPZKOICScX",
        "outputId": "944c65ae-b620-458a-f60c-e6232bc0b0e8"
      },
      "id": "QcPPZKOICScX",
      "execution_count": 76,
      "outputs": [
        {
          "output_type": "stream",
          "name": "stdout",
          "text": [
            "[[57 91 66 89 51]\n",
            " [85 12 53 71 15]\n",
            " [90  9 27 61 23]\n",
            " [52 30 52  1  7]\n",
            " [ 7  1 56 59 60]]\n"
          ]
        }
      ]
    },
    {
      "cell_type": "code",
      "source": [
        "#7. Dada a matriz A = [[1, 2, 3], [4, 5, 6], [7, 8, 9]], crie um array NumPy contendo apenas a segunda coluna da matriz A.\n",
        "A = np.array([[1, 2, 3], [4, 5, 6], [7, 8, 9]])\n",
        "B = A[:,1]\n",
        "B"
      ],
      "metadata": {
        "colab": {
          "base_uri": "https://localhost:8080/"
        },
        "id": "zYRBmA42CU8p",
        "outputId": "e3fdebcc-0ac2-4c3b-85d0-09decf82aae3"
      },
      "id": "zYRBmA42CU8p",
      "execution_count": 52,
      "outputs": [
        {
          "output_type": "execute_result",
          "data": {
            "text/plain": [
              "array([2, 5, 8])"
            ]
          },
          "metadata": {},
          "execution_count": 52
        }
      ]
    },
    {
      "cell_type": "code",
      "source": [
        "#8. Dado o array NumPy x = [1, 2, 3, 4, 5], crie um novo array onde todos os valores pares sejam substituídos por -1.\n",
        "x = np.array([1, 2, 3, 4, 5])\n",
        "x[x%2] = -1\n",
        "x\n",
        "y= np.array([1, 2, 3, 4, 5])\n",
        "b = np.where(y%2,-1,y)\n",
        "print(x)\n",
        "print(b)"
      ],
      "metadata": {
        "colab": {
          "base_uri": "https://localhost:8080/"
        },
        "id": "uhqzoKzHCedz",
        "outputId": "0165eb2c-f924-49b6-b280-e59f50a35860"
      },
      "id": "uhqzoKzHCedz",
      "execution_count": 64,
      "outputs": [
        {
          "output_type": "stream",
          "name": "stdout",
          "text": [
            "[-1 -1  3  4  5]\n",
            "[-1  2 -1  4 -1]\n"
          ]
        }
      ]
    },
    {
      "cell_type": "code",
      "source": [
        "#9.  Dado o array NumPy x = [1, 2, 3, 4, 5], crie um novo array onde todos os valores maiores que 2 sejam substituídos por 0.\n",
        "x = np.array([1, 2, 3, 4, 5])\n",
        "x[x>2] = 0\n",
        "x"
      ],
      "metadata": {
        "colab": {
          "base_uri": "https://localhost:8080/"
        },
        "id": "9w6ApkKACg0F",
        "outputId": "eab4459c-4ccd-4c49-e6b5-b1a4de628068"
      },
      "id": "9w6ApkKACg0F",
      "execution_count": 65,
      "outputs": [
        {
          "output_type": "execute_result",
          "data": {
            "text/plain": [
              "array([1, 2, 0, 0, 0])"
            ]
          },
          "metadata": {},
          "execution_count": 65
        }
      ]
    },
    {
      "cell_type": "code",
      "source": [
        "#10. Dado o array NumPy x = [1, 2, 3, 4, 5], normalize os valores do array de forma que a soma seja igual a 1.\n",
        "x = np.array([1, 2, 3, 4, 5])"
      ],
      "metadata": {
        "id": "FN2DD1EBCiUH"
      },
      "id": "FN2DD1EBCiUH",
      "execution_count": null,
      "outputs": []
    },
    {
      "cell_type": "code",
      "source": [
        "#11. Dada a matriz A = [[1, 2], [3, 4]] e a matriz B = [[5, 6], [7, 8]], calcule a multiplicação matricial entre A e B.\n",
        "A = np.array([[1, 2], [3, 4]] )\n",
        "B = np.array([[5, 6], [7, 8]])\n",
        "print(A*B)\n",
        "print(np.multiply(A,B))\n",
        "print(np.dot(A,B))\n"
      ],
      "metadata": {
        "colab": {
          "base_uri": "https://localhost:8080/"
        },
        "id": "TU8QVZ9jCkTV",
        "outputId": "3aec18a9-7652-4258-a08f-83c210d608b1"
      },
      "id": "TU8QVZ9jCkTV",
      "execution_count": 66,
      "outputs": [
        {
          "output_type": "stream",
          "name": "stdout",
          "text": [
            "[[ 5 12]\n",
            " [21 32]]\n",
            "[[ 5 12]\n",
            " [21 32]]\n",
            "[[19 22]\n",
            " [43 50]]\n"
          ]
        }
      ]
    },
    {
      "cell_type": "code",
      "source": [
        "#12. Dado o array NumPy x = [1, 2, 3], crie um novo array com os valores de x repetidos três vezes.\n",
        "x = np.array([1, 2, 3])\n",
        "print(np.repeat(x,3))\n"
      ],
      "metadata": {
        "colab": {
          "base_uri": "https://localhost:8080/"
        },
        "id": "55uiJJkLCmeN",
        "outputId": "97a1d26a-ec19-4f13-9622-479bc6725542"
      },
      "id": "55uiJJkLCmeN",
      "execution_count": 69,
      "outputs": [
        {
          "output_type": "stream",
          "name": "stdout",
          "text": [
            "[1 1 1 2 2 2 3 3 3]\n"
          ]
        }
      ]
    },
    {
      "cell_type": "code",
      "source": [
        "#13. Dado o array NumPy x = [1, 2, 3], crie um novo array com os valores de x repetidos lado a lado três vezes.\n",
        "\n",
        "\n",
        "x = np.array([1, 2, 3])\n",
        "print(np.repeat(x,3))"
      ],
      "metadata": {
        "colab": {
          "base_uri": "https://localhost:8080/"
        },
        "id": "aNpftMCmCoIW",
        "outputId": "94ecdafa-78c5-48a2-f507-767ceab6b316"
      },
      "id": "aNpftMCmCoIW",
      "execution_count": 68,
      "outputs": [
        {
          "output_type": "stream",
          "name": "stdout",
          "text": [
            "[[1 2 3]\n",
            " [1 2 3]\n",
            " [1 2 3]]\n"
          ]
        }
      ]
    },
    {
      "cell_type": "code",
      "source": [
        "#14. Dado o array NumPy x = [1, 2, 3], crie um novo array com os valores de x repetidos verticalmente três vezes.\n",
        "x = np.array([1, 2, 3])\n",
        "print(np.tile(x,(3,1)))"
      ],
      "metadata": {
        "id": "LhQGKq4DCpon"
      },
      "id": "LhQGKq4DCpon",
      "execution_count": null,
      "outputs": []
    },
    {
      "cell_type": "code",
      "source": [
        "#15. Dado o array NumPy x = [1, 2, 3], inverta a ordem dos elementos do array.\n",
        "x = np.array([1, 2, 3])\n",
        "print(np.flip(x))"
      ],
      "metadata": {
        "colab": {
          "base_uri": "https://localhost:8080/"
        },
        "id": "tx8i5l0fCrOQ",
        "outputId": "fd66c017-5c96-4f24-b163-65bbd65a71b4"
      },
      "id": "tx8i5l0fCrOQ",
      "execution_count": 70,
      "outputs": [
        {
          "output_type": "stream",
          "name": "stdout",
          "text": [
            "[3 2 1]\n"
          ]
        }
      ]
    },
    {
      "cell_type": "markdown",
      "id": "6d0f5db4",
      "metadata": {
        "id": "6d0f5db4"
      },
      "source": [
        "1. Crie um array NumPy unidimensional com os números de 1 a 10.\n",
        "   \n",
        "2. Crie um array NumPy bidimensional 3x3 preenchido com zeros.\n",
        "   \n",
        "3. Crie um array NumPy bidimensional 4x4 preenchido com uns.\n",
        "   \n",
        "4. Crie um array NumPy com 20 valores aleatórios entre 0 e 100.\n",
        "5. Crie um array NumPy unidimensional com espaçamento de 0.5 entre 0 e 10.\n",
        "6. Crie um array NumPy bidimensional 5x5 com valores aleatórios inteiros entre 1 e 100.\n",
        "7. Dada a matriz A = [[1, 2, 3], [4, 5, 6], [7, 8, 9]], crie um array NumPy contendo apenas a segunda coluna da matriz A.\n",
        "8. Dado o array NumPy x = [1, 2, 3, 4, 5], crie um novo array onde todos os valores pares sejam substituídos por -1.\n",
        "9.  Dado o array NumPy x = [1, 2, 3, 4, 5], crie um novo array onde todos os valores maiores que 2 sejam substituídos por 0.\n",
        "10. Dado o array NumPy x = [1, 2, 3, 4, 5], normalize os valores do array de forma que a soma seja igual a 1.\n",
        "11. Dada a matriz A = [[1, 2], [3, 4]] e a matriz B = [[5, 6], [7, 8]], calcule a multiplicação matricial entre A e B.\n",
        "12. Dado o array NumPy x = [1, 2, 3], crie um novo array com os valores de x repetidos três vezes.\n",
        "13. Dado o array NumPy x = [1, 2, 3], crie um novo array com os valores de x repetidos lado a lado três vezes.\n",
        "14. Dado o array NumPy x = [1, 2, 3], crie um novo array com os valores de x repetidos verticalmente três vezes.\n",
        "15. Dado o array NumPy x = [1, 2, 3], inverta a ordem dos elementos do array."
      ]
    }
  ],
  "metadata": {
    "kernelspec": {
      "display_name": "Python 3 (ipykernel)",
      "language": "python",
      "name": "python3"
    },
    "language_info": {
      "codemirror_mode": {
        "name": "ipython",
        "version": 3
      },
      "file_extension": ".py",
      "mimetype": "text/x-python",
      "name": "python",
      "nbconvert_exporter": "python",
      "pygments_lexer": "ipython3",
      "version": "3.9.7"
    },
    "colab": {
      "provenance": []
    }
  },
  "nbformat": 4,
  "nbformat_minor": 5
}